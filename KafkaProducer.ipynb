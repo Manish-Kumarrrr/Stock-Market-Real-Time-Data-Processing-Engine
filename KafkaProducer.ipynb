{
 "cells": [
  {
   "cell_type": "code",
   "execution_count": 1,
   "id": "e2d3f594",
   "metadata": {},
   "outputs": [
    {
     "name": "stdout",
     "output_type": "stream",
     "text": [
      "Defaulting to user installation because normal site-packages is not writeable\n",
      "Collecting kafka-python\n",
      "  Downloading kafka_python-2.0.2-py2.py3-none-any.whl.metadata (7.8 kB)\n",
      "Downloading kafka_python-2.0.2-py2.py3-none-any.whl (246 kB)\n",
      "   ---------------------------------------- 0.0/246.5 kB ? eta -:--:--\n",
      "   ---------------------------------------- 0.0/246.5 kB ? eta -:--:--\n",
      "   ---------------------------------------- 0.0/246.5 kB ? eta -:--:--\n",
      "   ------ --------------------------------- 41.0/246.5 kB 1.9 MB/s eta 0:00:01\n",
      "   ------ --------------------------------- 41.0/246.5 kB 1.9 MB/s eta 0:00:01\n",
      "   -------------- ------------------------ 92.2/246.5 kB 751.6 kB/s eta 0:00:01\n",
      "   -------------- ------------------------ 92.2/246.5 kB 751.6 kB/s eta 0:00:01\n",
      "   -------------- ------------------------ 92.2/246.5 kB 751.6 kB/s eta 0:00:01\n",
      "   ------------------------- ------------ 163.8/246.5 kB 614.4 kB/s eta 0:00:01\n",
      "   ----------------------------- -------- 194.6/246.5 kB 737.3 kB/s eta 0:00:01\n",
      "   ------------------------------- ------ 204.8/246.5 kB 593.2 kB/s eta 0:00:01\n",
      "   -------------------------------------- 246.5/246.5 kB 658.1 kB/s eta 0:00:00\n",
      "Installing collected packages: kafka-python\n",
      "Successfully installed kafka-python-2.0.2\n",
      "Note: you may need to restart the kernel to use updated packages.\n"
     ]
    },
    {
     "name": "stderr",
     "output_type": "stream",
     "text": [
      "\n",
      "[notice] A new release of pip is available: 24.0 -> 24.1.1\n",
      "[notice] To update, run: python.exe -m pip install --upgrade pip\n"
     ]
    }
   ],
   "source": [
    "pip install kafka-python"
   ]
  },
  {
   "cell_type": "code",
   "execution_count": null,
   "id": "f19405f0",
   "metadata": {},
   "outputs": [],
   "source": [
    "import pandas as pd\n",
    "from kafka import KafkaProducer\n",
    "from time import sleep\n",
    "from json import dumps\n",
    "import json"
   ]
  },
  {
   "cell_type": "code",
   "execution_count": null,
   "id": "b483a0e4",
   "metadata": {},
   "outputs": [],
   "source": [
    "producer = KafkaProducer(bootstrap_servers=[':9092'], #change ip here\n",
    "                         value_serializer=lambda x: \n",
    "                         dumps(x).encode('utf-8'))"
   ]
  },
  {
   "cell_type": "code",
   "execution_count": null,
   "id": "0c30b915",
   "metadata": {},
   "outputs": [],
   "source": [
    "producer.send('demo_test', value={'surnasdasdame':'parasdasdmar'})"
   ]
  },
  {
   "cell_type": "code",
   "execution_count": null,
   "id": "cc8d45aa",
   "metadata": {},
   "outputs": [],
   "source": [
    "df = pd.read_csv(\"data/indexProcessed.csv\")"
   ]
  },
  {
   "cell_type": "code",
   "execution_count": null,
   "id": "113a2516",
   "metadata": {},
   "outputs": [],
   "source": [
    "df.head()"
   ]
  },
  {
   "cell_type": "code",
   "execution_count": null,
   "id": "4c7ec0be",
   "metadata": {},
   "outputs": [],
   "source": [
    "while True:\n",
    "    dict_stock = df.sample(1).to_dict(orient=\"records\")[0]\n",
    "    producer.send('demo_test', value=dict_stock)\n",
    "    sleep(1)"
   ]
  },
  {
   "cell_type": "code",
   "execution_count": null,
   "id": "ed71c0e4",
   "metadata": {},
   "outputs": [],
   "source": [
    "producer.flush() #clear data from kafka server"
   ]
  },
  {
   "cell_type": "code",
   "execution_count": null,
   "id": "5991d10f",
   "metadata": {},
   "outputs": [],
   "source": []
  },
  {
   "cell_type": "code",
   "execution_count": null,
   "id": "3632d61d",
   "metadata": {},
   "outputs": [],
   "source": []
  }
 ],
 "metadata": {
  "kernelspec": {
   "display_name": "Python 3 (ipykernel)",
   "language": "python",
   "name": "python3"
  },
  "language_info": {
   "codemirror_mode": {
    "name": "ipython",
    "version": 3
   },
   "file_extension": ".py",
   "mimetype": "text/x-python",
   "name": "python",
   "nbconvert_exporter": "python",
   "pygments_lexer": "ipython3",
   "version": "3.12.4"
  }
 },
 "nbformat": 4,
 "nbformat_minor": 5
}
