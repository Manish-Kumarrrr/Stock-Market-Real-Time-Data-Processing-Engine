{
 "cells": [
  {
   "cell_type": "code",
   "execution_count": 9,
   "id": "e2d3f594",
   "metadata": {},
   "outputs": [
    {
     "name": "stdout",
     "output_type": "stream",
     "text": [
      "Defaulting to user installation because normal site-packages is not writeable\n",
      "Requirement already satisfied: kafka-python in c:\\users\\manis\\appdata\\roaming\\python\\python312\\site-packages (2.0.2)\n",
      "Note: you may need to restart the kernel to use updated packages.\n"
     ]
    }
   ],
   "source": [
    "pip install kafka-python"
   ]
  },
  {
   "cell_type": "code",
   "execution_count": 10,
   "id": "5ca83dad",
   "metadata": {},
   "outputs": [
    {
     "name": "stdout",
     "output_type": "stream",
     "text": [
      "Defaulting to user installation because normal site-packages is not writeable\n",
      "Requirement already satisfied: kafka-python-ng in c:\\users\\manis\\appdata\\roaming\\python\\python312\\site-packages (2.2.2)\n",
      "Note: you may need to restart the kernel to use updated packages.\n"
     ]
    }
   ],
   "source": [
    "pip install kafka-python-ng  ## incase of above package won't work"
   ]
  },
  {
   "cell_type": "code",
   "execution_count": 11,
   "id": "f19405f0",
   "metadata": {},
   "outputs": [],
   "source": [
    "import pandas as pd\n",
    "from kafka import KafkaProducer\n",
    "from time import sleep\n",
    "from json import dumps\n",
    "import json"
   ]
  },
  {
   "cell_type": "code",
   "execution_count": 14,
   "id": "b483a0e4",
   "metadata": {},
   "outputs": [],
   "source": [
    "producer = KafkaProducer(bootstrap_servers=['{listener ip of your kafka server}:9092'], #change ip here\n",
    "                         value_serializer=lambda x: \n",
    "                         dumps(x).encode('utf-8'))"
   ]
  },
  {
   "cell_type": "code",
   "execution_count": null,
   "id": "0c30b915",
   "metadata": {},
   "outputs": [
    {
     "data": {
      "text/plain": [
       "<kafka.producer.future.FutureRecordMetadata at 0x16f7f979c40>"
      ]
     },
     "execution_count": 6,
     "metadata": {},
     "output_type": "execute_result"
    }
   ],
   "source": [
    "producer.send('demo_topic', value={'Check Connection Status':'True'})"
   ]
  },
  {
   "cell_type": "code",
   "execution_count": null,
   "id": "cc8d45aa",
   "metadata": {},
   "outputs": [
    {
     "data": {
      "text/html": [
       "<div>\n",
       "<style scoped>\n",
       "    .dataframe tbody tr th:only-of-type {\n",
       "        vertical-align: middle;\n",
       "    }\n",
       "\n",
       "    .dataframe tbody tr th {\n",
       "        vertical-align: top;\n",
       "    }\n",
       "\n",
       "    .dataframe thead th {\n",
       "        text-align: right;\n",
       "    }\n",
       "</style>\n",
       "<table border=\"1\" class=\"dataframe\">\n",
       "  <thead>\n",
       "    <tr style=\"text-align: right;\">\n",
       "      <th></th>\n",
       "      <th>Index</th>\n",
       "      <th>Date</th>\n",
       "      <th>Open</th>\n",
       "      <th>High</th>\n",
       "      <th>Low</th>\n",
       "      <th>Close</th>\n",
       "      <th>Adj Close</th>\n",
       "      <th>Volume</th>\n",
       "      <th>CloseUSD</th>\n",
       "    </tr>\n",
       "  </thead>\n",
       "  <tbody>\n",
       "    <tr>\n",
       "      <th>0</th>\n",
       "      <td>399001.SZ</td>\n",
       "      <td>2011-08-23</td>\n",
       "      <td>11146.63965</td>\n",
       "      <td>11243.41992</td>\n",
       "      <td>11120.58984</td>\n",
       "      <td>11243.41992</td>\n",
       "      <td>11243.29395</td>\n",
       "      <td>38800.0</td>\n",
       "      <td>1798.947187</td>\n",
       "    </tr>\n",
       "    <tr>\n",
       "      <th>1</th>\n",
       "      <td>399001.SZ</td>\n",
       "      <td>2011-08-24</td>\n",
       "      <td>11313.98047</td>\n",
       "      <td>11369.98047</td>\n",
       "      <td>11225.51953</td>\n",
       "      <td>11238.95020</td>\n",
       "      <td>11238.82422</td>\n",
       "      <td>43300.0</td>\n",
       "      <td>1798.232032</td>\n",
       "    </tr>\n",
       "    <tr>\n",
       "      <th>2</th>\n",
       "      <td>399001.SZ</td>\n",
       "      <td>2011-08-25</td>\n",
       "      <td>11268.79981</td>\n",
       "      <td>11605.07031</td>\n",
       "      <td>11229.40039</td>\n",
       "      <td>11598.92969</td>\n",
       "      <td>11598.79981</td>\n",
       "      <td>81300.0</td>\n",
       "      <td>1855.828750</td>\n",
       "    </tr>\n",
       "    <tr>\n",
       "      <th>3</th>\n",
       "      <td>399001.SZ</td>\n",
       "      <td>2011-08-26</td>\n",
       "      <td>11547.54981</td>\n",
       "      <td>11599.87988</td>\n",
       "      <td>11472.28027</td>\n",
       "      <td>11568.16992</td>\n",
       "      <td>11568.04004</td>\n",
       "      <td>51300.0</td>\n",
       "      <td>1850.907187</td>\n",
       "    </tr>\n",
       "    <tr>\n",
       "      <th>4</th>\n",
       "      <td>399001.SZ</td>\n",
       "      <td>2011-08-29</td>\n",
       "      <td>11464.87988</td>\n",
       "      <td>11484.45996</td>\n",
       "      <td>11356.57031</td>\n",
       "      <td>11372.37988</td>\n",
       "      <td>11372.25195</td>\n",
       "      <td>52500.0</td>\n",
       "      <td>1819.580781</td>\n",
       "    </tr>\n",
       "  </tbody>\n",
       "</table>\n",
       "</div>"
      ],
      "text/plain": [
       "       Index        Date         Open         High          Low        Close  \\\n",
       "0  399001.SZ  2011-08-23  11146.63965  11243.41992  11120.58984  11243.41992   \n",
       "1  399001.SZ  2011-08-24  11313.98047  11369.98047  11225.51953  11238.95020   \n",
       "2  399001.SZ  2011-08-25  11268.79981  11605.07031  11229.40039  11598.92969   \n",
       "3  399001.SZ  2011-08-26  11547.54981  11599.87988  11472.28027  11568.16992   \n",
       "4  399001.SZ  2011-08-29  11464.87988  11484.45996  11356.57031  11372.37988   \n",
       "\n",
       "     Adj Close   Volume     CloseUSD  \n",
       "0  11243.29395  38800.0  1798.947187  \n",
       "1  11238.82422  43300.0  1798.232032  \n",
       "2  11598.79981  81300.0  1855.828750  \n",
       "3  11568.04004  51300.0  1850.907187  \n",
       "4  11372.25195  52500.0  1819.580781  "
      ]
     },
     "execution_count": 8,
     "metadata": {},
     "output_type": "execute_result"
    }
   ],
   "source": [
    "df = pd.read_csv(\"data.csv\")\n",
    "df.head()"
   ]
  },
  {
   "cell_type": "code",
   "execution_count": null,
   "id": "4c7ec0be",
   "metadata": {},
   "outputs": [],
   "source": [
    "while 1==1:\n",
    "    dict_stock = df.sample(1).to_dict(orient=\"records\")[0] ## give one random row\n",
    "    producer.send('demo_topic', value=dict_stock)\n",
    "    sleep(1)"
   ]
  },
  {
   "cell_type": "code",
   "execution_count": 24,
   "id": "ed71c0e4",
   "metadata": {},
   "outputs": [],
   "source": [
    "producer.flush() #clear data from kafka server"
   ]
  },
  {
   "cell_type": "code",
   "execution_count": null,
   "id": "5991d10f",
   "metadata": {},
   "outputs": [],
   "source": []
  }
 ],
 "metadata": {
  "kernelspec": {
   "display_name": "Python 3 (ipykernel)",
   "language": "python",
   "name": "python3"
  },
  "language_info": {
   "codemirror_mode": {
    "name": "ipython",
    "version": 3
   },
   "file_extension": ".py",
   "mimetype": "text/x-python",
   "name": "python",
   "nbconvert_exporter": "python",
   "pygments_lexer": "ipython3",
   "version": "3.12.4"
  }
 },
 "nbformat": 4,
 "nbformat_minor": 5
}
